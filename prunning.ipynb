{
 "cells": [
  {
   "cell_type": "code",
   "execution_count": 12,
   "id": "ffb00cec-15d1-4e73-8b23-3960753c0eb2",
   "metadata": {},
   "outputs": [
    {
     "name": "stderr",
     "output_type": "stream",
     "text": [
      "/home/sam/Documents/perso/project/SSP/venv/lib/python3.12/site-packages/tqdm/auto.py:21: TqdmWarning: IProgress not found. Please update jupyter and ipywidgets. See https://ipywidgets.readthedocs.io/en/stable/user_install.html\n",
      "  from .autonotebook import tqdm as notebook_tqdm\n"
     ]
    }
   ],
   "source": [
    "import torch\n",
    "from SSP.pruned import pruned_conv_layer\n",
    "from torchvision.models.segmentation import deeplabv3_mobilenet_v3_large\n",
    "from torch.utils.data import DataLoader\n",
    "from torch import nn\n",
    "from torch import optim\n",
    "from torchvision.models.segmentation import deeplabv3_mobilenet_v3_large, DeepLabV3_MobileNet_V3_Large_Weights\n",
    "from torchvision.datasets.voc import VOCSegmentation\n",
    "from SSP.process_voc import VOCSegmentationWithJointTransform, JointTransform\n",
    "from tqdm.auto import tqdm"
   ]
  },
  {
   "cell_type": "code",
   "execution_count": 2,
   "id": "e9bfdf44-8666-4b58-bb46-2fe9ab9fd168",
   "metadata": {},
   "outputs": [
    {
     "name": "stderr",
     "output_type": "stream",
     "text": [
      "/home/sam/Documents/perso/project/SSP/venv/lib/python3.12/site-packages/torchvision/models/_utils.py:208: UserWarning: The parameter 'pretrained' is deprecated since 0.13 and may be removed in the future, please use 'weights' instead.\n",
      "  warnings.warn(\n",
      "/home/sam/Documents/perso/project/SSP/venv/lib/python3.12/site-packages/torchvision/models/_utils.py:223: UserWarning: Arguments other than a weight enum or `None` for 'weights' are deprecated since 0.13 and may be removed in the future. The current behavior is equivalent to passing `weights=DeepLabV3_MobileNet_V3_Large_Weights.COCO_WITH_VOC_LABELS_V1`. You can also use `weights=DeepLabV3_MobileNet_V3_Large_Weights.DEFAULT` to get the most up-to-date weights.\n",
      "  warnings.warn(msg)\n"
     ]
    }
   ],
   "source": [
    "model = deeplabv3_mobilenet_v3_large(pretrained=True, num_classes=21)\n",
    "model.load_state_dict(torch.load(\"model_weights.pth\"), strict=True)\n",
    "model.eval();"
   ]
  },
  {
   "cell_type": "code",
   "execution_count": 9,
   "id": "7dc32301-a953-4d72-809a-62c643138464",
   "metadata": {},
   "outputs": [],
   "source": [
    "amount = 0.4\n",
    "pruned_conv_layer(model, amount)"
   ]
  },
  {
   "cell_type": "code",
   "execution_count": 10,
   "id": "3e9fd9c7-8a29-41cd-9211-8eff8286ef6f",
   "metadata": {},
   "outputs": [],
   "source": [
    "torch.save(model.state_dict(), f\"model_weights_pruned_{amount}.pth\")\n"
   ]
  },
  {
   "cell_type": "code",
   "execution_count": 13,
   "id": "e722ada0-141a-4210-80ee-9d8fe55e267c",
   "metadata": {},
   "outputs": [],
   "source": [
    "dataset = VOCSegmentationWithJointTransform(\n",
    "    root='data',\n",
    "    year='2012',\n",
    "    image_set='train',\n",
    "    download=True,\n",
    "    joint_transform=JointTransform()\n",
    ")"
   ]
  },
  {
   "cell_type": "code",
   "execution_count": 14,
   "id": "e9cea988-d77d-45af-8335-865051aa302a",
   "metadata": {},
   "outputs": [],
   "source": [
    "loader = DataLoader(dataset, batch_size=32, shuffle=True, num_workers=4)"
   ]
  },
  {
   "cell_type": "code",
   "execution_count": 15,
   "id": "11703d66-06b5-4759-9354-dcd2d7451b27",
   "metadata": {},
   "outputs": [
    {
     "name": "stderr",
     "output_type": "stream",
     "text": [
      "100%|███████████████████████████████████████████████████████████████████████████████████████████████████████████████████████████████████████████████████████████████████████████████████████████████████████████████████████████| 5/5 [06:49<00:00, 81.93s/it]\n"
     ]
    }
   ],
   "source": [
    "device = 'cuda' if torch.cuda.is_available() else 'cpu'\n",
    "model = model.to(device)\n",
    "criterion = nn.CrossEntropyLoss(ignore_index=255)\n",
    "optimizer = optim.Adam(model.parameters(), lr=1e-4)\n",
    "num_epochs = 5\n",
    "for epoch in tqdm(range(num_epochs)):\n",
    "    for images, masks in loader:\n",
    "        images, masks = images.to(device), masks.to(device)\n",
    "        outputs = model(images)['out']\n",
    "        loss = criterion(outputs, masks)\n",
    "        optimizer.zero_grad()\n",
    "        loss.backward()\n",
    "        optimizer.step()"
   ]
  },
  {
   "cell_type": "code",
   "execution_count": 16,
   "id": "a954fcc2-b2a3-4875-9e72-0a355fdf5919",
   "metadata": {},
   "outputs": [],
   "source": [
    "torch.save(model.state_dict(), f\"F_model_weights_pruned_{amount}.pth\")"
   ]
  },
  {
   "cell_type": "code",
   "execution_count": null,
   "id": "aa096f81-b396-452b-9715-d9464b10293c",
   "metadata": {},
   "outputs": [],
   "source": []
  }
 ],
 "metadata": {
  "kernelspec": {
   "display_name": "Python 3 (ipykernel)",
   "language": "python",
   "name": "python3"
  },
  "language_info": {
   "codemirror_mode": {
    "name": "ipython",
    "version": 3
   },
   "file_extension": ".py",
   "mimetype": "text/x-python",
   "name": "python",
   "nbconvert_exporter": "python",
   "pygments_lexer": "ipython3",
   "version": "3.12.11"
  }
 },
 "nbformat": 4,
 "nbformat_minor": 5
}
