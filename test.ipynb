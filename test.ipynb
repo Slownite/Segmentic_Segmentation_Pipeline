{
 "cells": [
  {
   "cell_type": "code",
   "execution_count": 1,
   "id": "91620b1e-1c49-4588-917f-c5f65030616a",
   "metadata": {},
   "outputs": [],
   "source": [
    "import torch\n",
    "from torch.utils.data import DataLoader\n",
    "from torch import nn\n",
    "from torch import optim\n",
    "from torchvision.models.segmentation import deeplabv3_mobilenet_v3_large, DeepLabV3_MobileNet_V3_Large_Weights\n",
    "from SSP.process_voc import VOCSegmentationWithJointTransform, JointTransform\n",
    "from SSP.evaluation import test"
   ]
  },
  {
   "cell_type": "code",
   "execution_count": 2,
   "id": "9ed39a1e-10bc-484d-afe7-24fd3e45fb20",
   "metadata": {},
   "outputs": [],
   "source": [
    "dataset = VOCSegmentationWithJointTransform(\n",
    "    root='data',\n",
    "    year='2012',\n",
    "    image_set='val',\n",
    "    download=True,\n",
    "    joint_transform=JointTransform()\n",
    ")"
   ]
  },
  {
   "cell_type": "code",
   "execution_count": 3,
   "id": "0c41d754-d3c9-485c-956a-33e1885d9674",
   "metadata": {},
   "outputs": [],
   "source": [
    "device = 'cuda' if torch.cuda.is_available() else 'cpu'"
   ]
  },
  {
   "cell_type": "code",
   "execution_count": 4,
   "id": "4835eec5-a8e8-4ea0-bc4f-97e3e4bdcc7d",
   "metadata": {},
   "outputs": [],
   "source": [
    "loader = DataLoader(dataset, batch_size=32, shuffle=True, num_workers=4)"
   ]
  },
  {
   "cell_type": "code",
   "execution_count": 5,
   "id": "aa5926bc-c471-4727-8e7f-b302fda2c8f2",
   "metadata": {},
   "outputs": [
    {
     "name": "stderr",
     "output_type": "stream",
     "text": [
      "/home/sam/Documents/perso/project/SSP/venv/lib/python3.12/site-packages/torchvision/models/_utils.py:208: UserWarning: The parameter 'pretrained' is deprecated since 0.13 and may be removed in the future, please use 'weights' instead.\n",
      "  warnings.warn(\n",
      "/home/sam/Documents/perso/project/SSP/venv/lib/python3.12/site-packages/torchvision/models/_utils.py:223: UserWarning: Arguments other than a weight enum or `None` for 'weights' are deprecated since 0.13 and may be removed in the future. The current behavior is equivalent to passing `weights=DeepLabV3_MobileNet_V3_Large_Weights.COCO_WITH_VOC_LABELS_V1`. You can also use `weights=DeepLabV3_MobileNet_V3_Large_Weights.DEFAULT` to get the most up-to-date weights.\n",
      "  warnings.warn(msg)\n"
     ]
    }
   ],
   "source": [
    "fine_tune_model = deeplabv3_mobilenet_v3_large(pretrained=True, num_classes=21)"
   ]
  },
  {
   "cell_type": "code",
   "execution_count": 6,
   "id": "d5bf2acc-791a-4f6b-a794-804a8731076a",
   "metadata": {},
   "outputs": [
    {
     "data": {
      "text/plain": [
       "<All keys matched successfully>"
      ]
     },
     "execution_count": 6,
     "metadata": {},
     "output_type": "execute_result"
    }
   ],
   "source": [
    "fine_tune_model.load_state_dict(torch.load(\"weights/model_weights.pth\"), strict=True)"
   ]
  },
  {
   "cell_type": "code",
   "execution_count": 7,
   "id": "606c8d19-9292-49fb-8792-1ae408315d38",
   "metadata": {},
   "outputs": [
    {
     "name": "stderr",
     "output_type": "stream",
     "text": [
      "Testing: 100%|████████████████████████████████████████████████████████████████████████████████████████████████████████████████████████████████████████████████████████████████████████████████████████████████████████████████| 46/46 [00:44<00:00,  1.03it/s]"
     ]
    },
    {
     "name": "stdout",
     "output_type": "stream",
     "text": [
      "\n",
      "Test Loss: 0.2570\n",
      "Pixel Accuracy: 91.59%\n",
      "Mean IoU: 0.6020\n",
      "Total Inference Time: 44.50 seconds\n",
      "Avg Time/Image: 0.0307 seconds\n",
      "Inference Speed: 32.57 FPS\n"
     ]
    },
    {
     "name": "stderr",
     "output_type": "stream",
     "text": [
      "\n"
     ]
    }
   ],
   "source": [
    "test(fine_tune_model, loader, device, num_classes=21)"
   ]
  },
  {
   "cell_type": "code",
   "execution_count": 8,
   "id": "4a544daa-e9b4-4df5-bad1-f6748c437ab7",
   "metadata": {},
   "outputs": [],
   "source": [
    "pure_model = deeplabv3_mobilenet_v3_large(pretrained=True, num_classes=21)"
   ]
  },
  {
   "cell_type": "code",
   "execution_count": 9,
   "id": "c1a96bf3-7451-4af3-aa54-b8a99470c3a0",
   "metadata": {},
   "outputs": [
    {
     "name": "stderr",
     "output_type": "stream",
     "text": [
      "Testing: 100%|████████████████████████████████████████████████████████████████████████████████████████████████████████████████████████████████████████████████████████████████████████████████████████████████████████████████| 46/46 [00:42<00:00,  1.07it/s]"
     ]
    },
    {
     "name": "stdout",
     "output_type": "stream",
     "text": [
      "\n",
      "Test Loss: 0.3838\n",
      "Pixel Accuracy: 88.25%\n",
      "Mean IoU: 0.5049\n",
      "Total Inference Time: 42.85 seconds\n",
      "Avg Time/Image: 0.0296 seconds\n",
      "Inference Speed: 33.81 FPS\n"
     ]
    },
    {
     "name": "stderr",
     "output_type": "stream",
     "text": [
      "\n"
     ]
    }
   ],
   "source": [
    "test(pure_model, loader, device, num_classes=21)"
   ]
  },
  {
   "cell_type": "code",
   "execution_count": 15,
   "id": "4dbc72cb-d3a6-40e4-8936-3119826ea3b6",
   "metadata": {},
   "outputs": [
    {
     "name": "stderr",
     "output_type": "stream",
     "text": [
      "/home/sam/Documents/perso/project/SSP/venv/lib/python3.12/site-packages/torchvision/models/_utils.py:208: UserWarning: The parameter 'pretrained' is deprecated since 0.13 and may be removed in the future, please use 'weights' instead.\n",
      "  warnings.warn(\n",
      "/home/sam/Documents/perso/project/SSP/venv/lib/python3.12/site-packages/torchvision/models/_utils.py:223: UserWarning: Arguments other than a weight enum or `None` for 'weights' are deprecated since 0.13 and may be removed in the future. The current behavior is equivalent to passing `weights=DeepLabV3_MobileNet_V3_Large_Weights.COCO_WITH_VOC_LABELS_V1`. You can also use `weights=DeepLabV3_MobileNet_V3_Large_Weights.DEFAULT` to get the most up-to-date weights.\n",
      "  warnings.warn(msg)\n",
      "Testing: 100%|████████████████████████████████████████████████████████████████████████████████████████████████████████████████████████████████████████████████████████████████████████████████████████████████████████████████| 46/46 [00:37<00:00,  1.24it/s]"
     ]
    },
    {
     "name": "stdout",
     "output_type": "stream",
     "text": [
      "\n",
      "Test Loss: 0.2689\n",
      "Pixel Accuracy: 91.42%\n",
      "Mean IoU: 0.5935\n",
      "Total Inference Time: 37.17 seconds\n",
      "Avg Time/Image: 0.0257 seconds\n",
      "Inference Speed: 38.99 FPS\n"
     ]
    },
    {
     "name": "stderr",
     "output_type": "stream",
     "text": [
      "\n"
     ]
    }
   ],
   "source": [
    "pruned_model01 = deeplabv3_mobilenet_v3_large(pretrained=True, num_classes=21)\n",
    "pruned_model01.load_state_dict(torch.load(\"weights/model_weights_pruned_0.1.pth\"), strict=True)\n",
    "test(pruned_model01, loader, device, num_classes=21)"
   ]
  },
  {
   "cell_type": "code",
   "execution_count": 17,
   "id": "edbc8d8e-6da7-4447-a9c6-70912ba98341",
   "metadata": {},
   "outputs": [
    {
     "name": "stderr",
     "output_type": "stream",
     "text": [
      "Testing: 100%|████████████████████████████████████████████████████████████████████████████████████████████████████████████████████████████████████████████████████████████████████████████████████████████████████████████████| 46/46 [00:38<00:00,  1.21it/s]"
     ]
    },
    {
     "name": "stdout",
     "output_type": "stream",
     "text": [
      "\n",
      "Test Loss: 0.2876\n",
      "Pixel Accuracy: 90.83%\n",
      "Mean IoU: 0.5794\n",
      "Total Inference Time: 38.17 seconds\n",
      "Avg Time/Image: 0.0263 seconds\n",
      "Inference Speed: 37.96 FPS\n"
     ]
    },
    {
     "name": "stderr",
     "output_type": "stream",
     "text": [
      "\n"
     ]
    }
   ],
   "source": [
    "pruned_model02 = deeplabv3_mobilenet_v3_large(pretrained=True, num_classes=21)\n",
    "pruned_model02.load_state_dict(torch.load(\"weights/model_weights_pruned_0.2.pth\"), strict=True)\n",
    "test(pruned_model02, loader, device, num_classes=21)"
   ]
  },
  {
   "cell_type": "code",
   "execution_count": 18,
   "id": "907e0a36-b9b0-40b8-8ea6-d38943e9aa4b",
   "metadata": {},
   "outputs": [
    {
     "name": "stderr",
     "output_type": "stream",
     "text": [
      "Testing: 100%|████████████████████████████████████████████████████████████████████████████████████████████████████████████████████████████████████████████████████████████████████████████████████████████████████████████████| 46/46 [00:38<00:00,  1.18it/s]"
     ]
    },
    {
     "name": "stdout",
     "output_type": "stream",
     "text": [
      "\n",
      "Test Loss: 0.3793\n",
      "Pixel Accuracy: 88.39%\n",
      "Mean IoU: 0.5053\n",
      "Total Inference Time: 38.86 seconds\n",
      "Avg Time/Image: 0.0268 seconds\n",
      "Inference Speed: 37.28 FPS\n"
     ]
    },
    {
     "name": "stderr",
     "output_type": "stream",
     "text": [
      "\n"
     ]
    }
   ],
   "source": [
    "pruned_model03 = deeplabv3_mobilenet_v3_large(pretrained=True, num_classes=21)\n",
    "pruned_model03.load_state_dict(torch.load(\"weights/model_weights_pruned_0.3.pth\"), strict=True)\n",
    "test(pruned_model03, loader, device, num_classes=21)"
   ]
  },
  {
   "cell_type": "code",
   "execution_count": 19,
   "id": "7786d2e6-d35e-4d74-a55a-2e7318677184",
   "metadata": {},
   "outputs": [
    {
     "name": "stderr",
     "output_type": "stream",
     "text": [
      "Testing: 100%|████████████████████████████████████████████████████████████████████████████████████████████████████████████████████████████████████████████████████████████████████████████████████████████████████████████████| 46/46 [00:39<00:00,  1.16it/s]"
     ]
    },
    {
     "name": "stdout",
     "output_type": "stream",
     "text": [
      "\n",
      "Test Loss: 0.7858\n",
      "Pixel Accuracy: 79.14%\n",
      "Mean IoU: 0.2452\n",
      "Total Inference Time: 39.51 seconds\n",
      "Avg Time/Image: 0.0273 seconds\n",
      "Inference Speed: 36.67 FPS\n"
     ]
    },
    {
     "name": "stderr",
     "output_type": "stream",
     "text": [
      "\n"
     ]
    }
   ],
   "source": [
    "pruned_model04 = deeplabv3_mobilenet_v3_large(pretrained=True, num_classes=21)\n",
    "pruned_model04.load_state_dict(torch.load(\"weights/model_weights_pruned_0.4.pth\"), strict=True)\n",
    "test(pruned_model04, loader, device, num_classes=21)"
   ]
  },
  {
   "cell_type": "code",
   "execution_count": 21,
   "id": "1f75fdea-76ac-41be-b71a-92a074cc59fe",
   "metadata": {},
   "outputs": [
    {
     "name": "stderr",
     "output_type": "stream",
     "text": [
      "Testing: 100%|████████████████████████████████████████████████████████████████████████████████████████████████████████████████████████████████████████████████████████████████████████████████████████████████████████████████| 46/46 [00:38<00:00,  1.20it/s]"
     ]
    },
    {
     "name": "stdout",
     "output_type": "stream",
     "text": [
      "\n",
      "Test Loss: 0.2975\n",
      "Pixel Accuracy: 91.20%\n",
      "Mean IoU: 0.5883\n",
      "Total Inference Time: 38.49 seconds\n",
      "Avg Time/Image: 0.0266 seconds\n",
      "Inference Speed: 37.65 FPS\n"
     ]
    },
    {
     "name": "stderr",
     "output_type": "stream",
     "text": [
      "\n"
     ]
    }
   ],
   "source": [
    "fpruned_model04 = deeplabv3_mobilenet_v3_large(pretrained=True, num_classes=21)\n",
    "fpruned_model04.load_state_dict(torch.load(\"weights/F_model_weights_pruned_0.4.pth\"), strict=True)\n",
    "test(fpruned_model04, loader, device, num_classes=21)"
   ]
  },
  {
   "cell_type": "code",
   "execution_count": null,
   "id": "2df6fd28-1093-4268-97ac-cf6b6f347e34",
   "metadata": {},
   "outputs": [],
   "source": []
  }
 ],
 "metadata": {
  "kernelspec": {
   "display_name": "Python 3 (ipykernel)",
   "language": "python",
   "name": "python3"
  },
  "language_info": {
   "codemirror_mode": {
    "name": "ipython",
    "version": 3
   },
   "file_extension": ".py",
   "mimetype": "text/x-python",
   "name": "python",
   "nbconvert_exporter": "python",
   "pygments_lexer": "ipython3",
   "version": "3.12.11"
  }
 },
 "nbformat": 4,
 "nbformat_minor": 5
}
